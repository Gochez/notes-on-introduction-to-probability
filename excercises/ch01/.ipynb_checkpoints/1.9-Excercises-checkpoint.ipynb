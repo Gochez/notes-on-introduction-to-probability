{
 "cells": [
  {
   "cell_type": "code",
   "execution_count": 1,
   "metadata": {
    "collapsed": false
   },
   "outputs": [],
   "source": [
    "import math\n",
    "import scipy as sp\n",
    "from scipy import special"
   ]
  },
  {
   "cell_type": "markdown",
   "metadata": {},
   "source": [
    "# 1.9 Excercises"
   ]
  },
  {
   "cell_type": "markdown",
   "metadata": {},
   "source": [
    "## Counting"
   ]
  },
  {
   "cell_type": "markdown",
   "metadata": {},
   "source": [
    "### 1. How many ways are there to permutate the letters in the word MISSISSIPPI?"
   ]
  },
  {
   "cell_type": "markdown",
   "metadata": {},
   "source": [
    "**R/** First thing we must do is know how many letters are there in the word MISSISSIPPI."
   ]
  },
  {
   "cell_type": "code",
   "execution_count": 2,
   "metadata": {
    "collapsed": false
   },
   "outputs": [
    {
     "data": {
      "text/plain": [
       "11"
      ]
     },
     "execution_count": 2,
     "metadata": {},
     "output_type": "execute_result"
    }
   ],
   "source": [
    "w = \"MISSISSIPPI\"\n",
    "len(w)"
   ]
  },
  {
   "cell_type": "markdown",
   "metadata": {},
   "source": [
    "So now we now there are $11!$ ways to permutate all the letters.\n",
    "\n",
    "But we only care about distinguishable permutations, an $11!$ is overcounting by the factor of permutations of the repetitions of each character. To solve this problem we need to count the total number or repetitions for each letter in the word:\n",
    "\n",
    "$$ M = 1$$\n",
    "$$ I = 4$$\n",
    "$$ S = 4$$\n",
    "$$ P = 2$$\n",
    "\n",
    "And then divide $11!$ by those factors. So the final answer is:\n",
    "\n",
    "$$ \\dfrac{11!}{1!\\cdot 4!\\cdot 4!\\cdot 2!} = \\dfrac{11!}{2(4!)^{2}} $$\n",
    "\n",
    "Which we can then calculate:"
   ]
  },
  {
   "cell_type": "code",
   "execution_count": 3,
   "metadata": {
    "collapsed": false
   },
   "outputs": [
    {
     "data": {
      "text/plain": [
       "34650"
      ]
     },
     "execution_count": 3,
     "metadata": {},
     "output_type": "execute_result"
    }
   ],
   "source": [
    "math.factorial(11) / (2*(math.factorial(4)**2))"
   ]
  },
  {
   "cell_type": "markdown",
   "metadata": {},
   "source": [
    "### 2. (a) How many 7-digit phone numbers are possible, assuming that the first digit can't be a 0 or a 1?"
   ]
  },
  {
   "cell_type": "markdown",
   "metadata": {},
   "source": [
    "**R/** This can easily be solved via the multiplication rule:\n",
    "For the first spot we can only pick eight numbers (all but 0 or 1), for the six remaning spots we can pick 10 diferent numbers each.\n",
    "\n",
    "$$ 8\\cdot 10^{6} $$\n",
    "\n",
    "And we can calculate it:\n"
   ]
  },
  {
   "cell_type": "code",
   "execution_count": 4,
   "metadata": {
    "collapsed": false
   },
   "outputs": [
    {
     "data": {
      "text/plain": [
       "8000000"
      ]
     },
     "execution_count": 4,
     "metadata": {},
     "output_type": "execute_result"
    }
   ],
   "source": [
    "8 * 10**6"
   ]
  },
  {
   "cell_type": "markdown",
   "metadata": {},
   "source": [
    "An other way to think about this problem is to calculate all the posible 7-digit phone numbers:\n",
    "\n",
    "$$ 10^{7} $$\n",
    "\n",
    "Then, we need to substract all the numbers which start with 0s or 1s. We can pick 2 numbers for the first spot (0s or 1s), and then pick 10 numbers for each of the remaining six spots:\n",
    "\n",
    "$$ 10^{7} - (2 \\cdot 10^{6}) $$\n",
    "\n",
    "We can calculate this solution too: "
   ]
  },
  {
   "cell_type": "code",
   "execution_count": 5,
   "metadata": {
    "collapsed": false
   },
   "outputs": [
    {
     "data": {
      "text/plain": [
       "8000000"
      ]
     },
     "execution_count": 5,
     "metadata": {},
     "output_type": "execute_result"
    }
   ],
   "source": [
    "(10**7) - (2 * 10**6)"
   ]
  },
  {
   "cell_type": "markdown",
   "metadata": {},
   "source": [
    "### 2. (b) Resolve (a), except now assume also that the pone number is not allowed to start with 911."
   ]
  },
  {
   "cell_type": "markdown",
   "metadata": {},
   "source": [
    "**R/** We can use as a starting point our solution to (a). Now we need to substract all possible permutations where number starts with 911:\n",
    "\n",
    "For the first spot there's one number we can pick (9), for the other two spots too (1). So the posible permutations which start with 911 are:\n",
    "\n",
    "$$ 1 \\cdot 1 \\cdot 1 \\cdot 10^{4} $$\n",
    "\n",
    "So our answear is:\n",
    "\n",
    "$$ (8 \\cdot 10^{6}) - 10^{4} $$\n",
    "\n",
    "That is:"
   ]
  },
  {
   "cell_type": "code",
   "execution_count": 6,
   "metadata": {
    "collapsed": false
   },
   "outputs": [
    {
     "data": {
      "text/plain": [
       "7990000"
      ]
     },
     "execution_count": 6,
     "metadata": {},
     "output_type": "execute_result"
    }
   ],
   "source": [
    "(8 * 10**6) - 10**4"
   ]
  },
  {
   "cell_type": "markdown",
   "metadata": {},
   "source": [
    "### 3. Fred is planning to go out to dinner each night of a certrain week (Monday through Friday), with each dinner being at one of his ten favorite restaurants."
   ]
  },
  {
   "cell_type": "markdown",
   "metadata": {},
   "source": [
    "#### a) How many possibilities are there for Fred's schedule if Fred is not willing to eat at the same restaurant more than once?"
   ]
  },
  {
   "cell_type": "markdown",
   "metadata": {},
   "source": [
    "**R/** This is immediate from the multiplication rule. Fred can pick from\n",
    "* 10 restaurants on Monday.\n",
    "* 9 on Tuesday.\n",
    "* 8 on Wenesday.\n",
    "* 7 on Thursday\n",
    "* 6 on Friday\n",
    "\n",
    "That is $ 10 \\cdot 9 \\cdot 8 \\cdot 7 \\cdot 6 $ posible schedules for Fred\n",
    "\n",
    "A fancy (and useful for larger problems) way to write this is:\n",
    "\n",
    "$$ \\dfrac{10!}{(10-5)!} $$\n",
    "\n",
    "We can calculate this:"
   ]
  },
  {
   "cell_type": "code",
   "execution_count": 7,
   "metadata": {
    "collapsed": false
   },
   "outputs": [
    {
     "data": {
      "text/plain": [
       "30240"
      ]
     },
     "execution_count": 7,
     "metadata": {},
     "output_type": "execute_result"
    }
   ],
   "source": [
    "math.factorial(10) / math.factorial(10-5)"
   ]
  },
  {
   "cell_type": "markdown",
   "metadata": {},
   "source": [
    "#### b) How many possibilities are there for Fred's schedule if Fred is willing to eat at the same restaurant more than once, but is not willing to eat at the same place twice in a row?\n"
   ]
  },
  {
   "cell_type": "markdown",
   "metadata": {},
   "source": [
    "**R/** This sounds like a more complicated problem. Fred can pick from\n",
    "\n",
    "* 10 options available on Monday\n",
    "* 9 options available on Tuesday (since he can't eat at the same place twice in a row)\n",
    "\n",
    "Here comes the tricky part:\n",
    "* 9 options available on Wenesday (since he can't pick the restaurant from Tuesday, but can pick the one from Monday)\n",
    "* 9 options available on Thursday (since he can't pick the restaurant from Wenesday, but can pick the one from Monday or Tuesday)\n",
    "* 9 options available on Friday (since he can't pick the restaurant from Thursday, but can pick the one from Monday, Tuesday or Wenesday)\n",
    "\n",
    "The answear then is: \n",
    "\n",
    "$$ 10 \\cdot 9^{4} $$"
   ]
  },
  {
   "cell_type": "code",
   "execution_count": 8,
   "metadata": {
    "collapsed": false
   },
   "outputs": [
    {
     "data": {
      "text/plain": [
       "65610"
      ]
     },
     "execution_count": 8,
     "metadata": {},
     "output_type": "execute_result"
    }
   ],
   "source": [
    "10 * 9**4"
   ]
  },
  {
   "cell_type": "markdown",
   "metadata": {},
   "source": [
    "### 4. A *round-robin tournament* is being held with n tennis players; this means every player will play against every other player exactly once."
   ]
  },
  {
   "cell_type": "markdown",
   "metadata": {},
   "source": [
    "#### a) How many possible outcomes are there for the tournament (the outcome list out who won and who lost for each tournament)"
   ]
  },
  {
   "cell_type": "markdown",
   "metadata": {},
   "source": [
    "**R/** This is the most difficult problem so far. It's difficulty lays in the fact that we have to combine two ways of counting to solve this problem:\n",
    "\n",
    "1. We need to count all posible pairs we can make with n players. \n",
    "2. We need to count all posible outcomes for each pair.\n",
    "\n",
    "To count all posible games:\n",
    "$$ \\binom{n}{2} = \\dfrac{n!}{2! \\cdot (n-2)!} $$\n",
    "\n",
    " \n",
    "(We can use binomial coefficient because a player can't play with itself and it doesn't matter which player we choose first, it's the same game).\n",
    "\n",
    "We know each game can only have two outcomes, that means there are $2^{g}$ posible outcomes given $g$ games. But we already solved how many games are there, so our answear:\n",
    "\n",
    "$$ 2^{\\binom{n}{2}} $$ "
   ]
  },
  {
   "cell_type": "markdown",
   "metadata": {},
   "source": [
    "#### b) How many games are played in total?"
   ]
  },
  {
   "cell_type": "markdown",
   "metadata": {},
   "source": [
    "I believe Joseph laid this question after the first only to give you a hint if you couldn't solve a) first. We already have our answear:\n",
    "\n",
    "$$ \\binom{n}{2} = \\dfrac{n!}{2! \\cdot (n-2)!} $$"
   ]
  },
  {
   "cell_type": "markdown",
   "metadata": {},
   "source": [
    "### 5. A *knock-out tournament*  is being held with $2^{n}$ players\n"
   ]
  },
  {
   "cell_type": "markdown",
   "metadata": {},
   "source": [
    "#### a) How many rounds are there?"
   ]
  },
  {
   "cell_type": "markdown",
   "metadata": {},
   "source": [
    "**R/** $n$.\n",
    "\n",
    "This is inmediate from the anatomy of the tournament. If we have $2^{n}$ players and know the last round is where we have two players left, we just reverse engineer our number of players because $n$ es the factor by which we multiplied our players.  "
   ]
  },
  {
   "cell_type": "markdown",
   "metadata": {},
   "source": [
    "#### b) Count how many games in total are played, by adding up the numbers of games played in each round."
   ]
  },
  {
   "cell_type": "markdown",
   "metadata": {},
   "source": [
    "To solve this we need:\n",
    "1. First find out how many rounds are there\n",
    "2. Count how many games are there per round\n",
    "3. Sum them up\n",
    "\n",
    "We already know there are $n$ rounds.\n",
    "\n",
    "We know there are $\\dfrac{2^{n}}{2^{n-(n-1)}}$ games in the first round. \n",
    "There are $\\dfrac{2^{n}}{2^{n-(n-2)}} $ games in the second round and so on for it.\n",
    "\n",
    "We can simplify this term by adding:\n",
    "\n",
    "$$ 2^{n-1} + 2^{n-2}  ...  2^{n-n} $$"
   ]
  },
  {
   "cell_type": "markdown",
   "metadata": {},
   "source": [
    "#### c) Count how many games are played in total, this time by directly thinking about it without doing almost any calculation."
   ]
  },
  {
   "cell_type": "markdown",
   "metadata": {
    "collapsed": true
   },
   "source": [
    "**R/** With the hint (how many players need to be disqualified?) we inmediately see that there must be $2^{n} - 1$ teams disqualified.\n",
    "\n",
    "This is importart because then we realizied that one game = one team disqualified. That means that the number of games are:\n",
    "\n",
    "$$ 2^{n}-1 $$"
   ]
  },
  {
   "cell_type": "markdown",
   "metadata": {},
   "source": [
    "### 6. There are 20 people at a chess club. They each find opponents and start playing. How many possibilities are there for how they are matched up, assuming that in each game it does matter who has the white pieces."
   ]
  },
  {
   "cell_type": "markdown",
   "metadata": {},
   "source": [
    "**R/** The solution to this problem is simple: \n",
    "\n",
    "$$ \\dfrac{20!}{(20-2)!} $$\n",
    "\n",
    "We can simplify it (since everything else cancels):\n",
    "\n",
    "$$ 20 \\cdot 19 $$ \n",
    "\n",
    "And our answear is:"
   ]
  },
  {
   "cell_type": "code",
   "execution_count": 9,
   "metadata": {
    "collapsed": false
   },
   "outputs": [
    {
     "data": {
      "text/plain": [
       "380"
      ]
     },
     "execution_count": 9,
     "metadata": {},
     "output_type": "execute_result"
    }
   ],
   "source": [
    "20*19"
   ]
  },
  {
   "cell_type": "markdown",
   "metadata": {},
   "source": [
    "### 7. To chess players, A and B, are going to play 7 games. Each game has three possible outcomes: a win for A (which is a loss for B), a draw (tie), and a loss for A (which is a win for B). A win is worth 1 point, a draw is worth 0.5 points and a lose is worth 0 points"
   ]
  },
  {
   "cell_type": "markdown",
   "metadata": {},
   "source": [
    "#### a) How many possible outcomes for the individual games are there, such that overall player A ends up with 3 wins, 2 draws and 2 losses?"
   ]
  },
  {
   "cell_type": "markdown",
   "metadata": {},
   "source": [
    "**R/** We can imagine each game as a spot in a 7 digit string. Each sport can take any of three letters (w for win, d for draw and l for losses).\n",
    "\n",
    "Now the problem reduces to how many distinguishable permutations of 7 digits can we make with 3 Ws, 2 Ds and 2 Ls. It is easy to see that this is an isomorphic problem to the Mississippi one. \n",
    "\n",
    "So we have $7!$ possible combinations with our string. But we overcounted for:\n",
    "\n",
    "$$ W = 3 $$\n",
    "$$ D = 2 $$\n",
    "$$ L = 2 $$\n",
    "\n",
    "So we need to divide by those factors:\n",
    "\n",
    "$$ \\dfrac{7!}{3! \\cdot 2! \\cdot 2!} = \\dfrac{7!}{4 \\cdot (3!)}$$\n",
    "\n",
    "So our answear is:"
   ]
  },
  {
   "cell_type": "code",
   "execution_count": 10,
   "metadata": {
    "collapsed": false
   },
   "outputs": [
    {
     "data": {
      "text/plain": [
       "210"
      ]
     },
     "execution_count": 10,
     "metadata": {},
     "output_type": "execute_result"
    }
   ],
   "source": [
    "math.factorial(7) / (4 *math.factorial(3))"
   ]
  },
  {
   "cell_type": "markdown",
   "metadata": {},
   "source": [
    "What we just did is the same as $\\binom{7}{3}$ for the wins, $\\binom{4}{2}$ for the losses and $\\binom{2}{2}$ for the draws.\n",
    "\n",
    "\n",
    "$$ \\binom{7}{3} \\cdot \\binom{4}{2} \\cdot \\binom{2}{2}$$"
   ]
  },
  {
   "cell_type": "markdown",
   "metadata": {},
   "source": [
    "#### b) How many possible outcomes for the individual games are there, such that A ends with 4 points and B ends up with 3 points."
   ]
  },
  {
   "cell_type": "markdown",
   "metadata": {},
   "source": [
    "**R/** A ending with 4 points and B ending with 3 points can be achivied by different ways:\n",
    "\n",
    "* A winning 4 games and lossing 3.\n",
    "* A winning 3 games and drawing 2 games.\n",
    "* A winning 2 games and drawing 4 games.\n",
    "* A winning 1 game and drawing 6 games.\n",
    "\n",
    "If we imagine a 7 digit string again, we now have repeated letters:\n",
    "\n",
    "\n",
    "* First scenario:  $ A = 4, B = 3 $\n",
    "* Second scenario:  $ A = 3, D = 2, B = 2 $\n",
    "* Third scenario:  $ A = 2, D = 4$\n",
    "* Fourth scenario:  $ D = 6 $\n",
    "\n",
    "\n",
    "\n",
    "\n",
    "\n",
    "So, if que count all posible permutations we have:\n",
    "\n",
    "$$ \\dfrac{7!}{4! \\cdot 3!} +  \\dfrac{7!}{3! \\cdot 2! \\cdot 2!}  + \\dfrac{7!}{2! \\cdot 4!} + \\dfrac{7!}{6!} $$ \n",
    "\n",
    "So our answear is:"
   ]
  },
  {
   "cell_type": "code",
   "execution_count": 11,
   "metadata": {
    "collapsed": false
   },
   "outputs": [
    {
     "data": {
      "text/plain": [
       "357"
      ]
     },
     "execution_count": 11,
     "metadata": {},
     "output_type": "execute_result"
    }
   ],
   "source": [
    "one = math.factorial(7) / (math.factorial(4) * math.factorial(3))\n",
    "two = math.factorial(7) / (math.factorial(3) * math.factorial(2) * math.factorial(2))\n",
    "three = math.factorial(7) / (math.factorial(2) * math.factorial(4))\n",
    "four = math.factorial(7) / math.factorial(6)\n",
    "\n",
    "one + two + three + four"
   ]
  },
  {
   "cell_type": "markdown",
   "metadata": {},
   "source": [
    "#### c) Now assume that they are playing a best-of-7 match, where the match will end as soon as either player has 4 points. How many possible outcomes for the individual games are there, such that the match lasts for 7 games and A wins by a score of 4 to 3."
   ]
  },
  {
   "cell_type": "markdown",
   "metadata": {},
   "source": [
    "**R/** Best way I can think of this problem is interpreting the condition. For a match to last 7 games and A winning with 4 points there are just two possibilities:\n",
    "\n",
    "* A has 3 points in firsts 6 games and wins the last game.\n",
    "* A has 3.5 points in firsts 6 games and ties the last game.\n",
    "\n",
    "Once we have this, we need to solve two problems: \n",
    "\n",
    "A getting 3 points out of six games. (This is the same as we just did before)\n",
    "\n",
    "* First scenario: A=3, D=0, B=3\n",
    "* Second scenario: A=2, D=2, B=2\n",
    "* Third scenario: A=1, D=4, B=1\n",
    "* Fourth scenario: D=6\n",
    "\n",
    "\n",
    "\n",
    "$$ \\dfrac{6!}{3! \\cdot 3!} + \\dfrac{6!}{2! \\cdot 2! \\cdot 2!} + \\dfrac{6!}{4!} + \\dfrac{6!}{6!} $$\n",
    "\n",
    "\n",
    "A getting 3.5 points out of six games. (Same thing here)\n",
    "* First scenario: A=3, D=1 B=2\n",
    "* Second scenario: A=2, D=3, B=1\n",
    "* Third scenario: A=1, D=5, B=0\n",
    "\n",
    "\n",
    "$$ \\dfrac{6!}{3! \\cdot 2!} + \\dfrac{6!}{2! \\cdot 3! \\cdot 2!} + \\dfrac{6!}{5!} $$\n",
    "\n",
    "So our final answear is:\n",
    "\n",
    "\n",
    "$$ \\left(\\dfrac{6!}{3! \\cdot 3!} + \\dfrac{6!}{2! \\cdot 2! \\cdot 2!} + \\dfrac{6!}{4!} + \\dfrac{6!}{6!}\\right) + \\left(\\dfrac{6!}{3! \\cdot 2!} + \\dfrac{6!}{2! \\cdot 3! \\cdot 2!} + \\dfrac{6!}{5!}\\right)$$\n",
    "\n",
    "Which is:"
   ]
  },
  {
   "cell_type": "code",
   "execution_count": 12,
   "metadata": {
    "collapsed": false
   },
   "outputs": [
    {
     "data": {
      "text/plain": [
       "267"
      ]
     },
     "execution_count": 12,
     "metadata": {},
     "output_type": "execute_result"
    }
   ],
   "source": [
    "one = math.factorial(6) / (math.factorial(3) * math.factorial(3))\n",
    "two = math.factorial(6) / (math.factorial(2) * math.factorial(2) * math.factorial(2))\n",
    "three = math.factorial(6) / math.factorial(4) \n",
    "four = math.factorial(6) / math.factorial(6) \n",
    "five = math.factorial(6) / (math.factorial(3) * math.factorial(2))\n",
    "six = math.factorial(6) / (math.factorial(2) * math.factorial(3))\n",
    "seven = math.factorial(6) /  math.factorial(5)\n",
    "                             \n",
    "one + two + three + four + five + six + seven"
   ]
  },
  {
   "cell_type": "markdown",
   "metadata": {},
   "source": [
    "### 8. a) How many ways are there to split a dozen people into 3 teams, where one team has 2 people and the other teams have 5 people each?"
   ]
  },
  {
   "cell_type": "markdown",
   "metadata": {},
   "source": [
    "**R/** This problem can be solved with the binomial coefficient. We pick 2 out of 12 people. Then we have 10 people left, from which we need to pick five. The remaining 5 are in the other team. It's important to note that we are overcounting by the factor of two: since it doesn't matter which group of five we pick first. (Picking a group of five is the same as not picking that group).\n",
    "\n",
    "So our solution is:\n",
    "\n",
    "$$ \\dfrac{\\binom{12}{2} \\cdot \\binom{10}{5}} {2} $$\n",
    "\n",
    "And we can calculate it:"
   ]
  },
  {
   "cell_type": "code",
   "execution_count": 13,
   "metadata": {
    "collapsed": false
   },
   "outputs": [
    {
     "data": {
      "text/plain": [
       "8316.0"
      ]
     },
     "execution_count": 13,
     "metadata": {},
     "output_type": "execute_result"
    }
   ],
   "source": [
    "(sp.special.binom(12, 2) * sp.special.binom(10, 5)) / 2"
   ]
  },
  {
   "cell_type": "markdown",
   "metadata": {},
   "source": [
    "### 8. b) How many ways are there to split a dozen people into 3 teams, where every team has 4 people?"
   ]
  },
  {
   "cell_type": "markdown",
   "metadata": {},
   "source": [
    "**R/** We pick 4 people out of 12 for the first team, 4 people out of 8 for the second and the remaining people are the third team. In this ocation we are overcounting by the fact of $3!$ since there are $3!$ ways of ways of picking the same three teams in different orders. \n",
    "\n",
    "$$ \\dfrac{\\binom{12}{4} \\cdot \\binom{8}{4}}{3!} $$\n",
    "\n",
    "Specific answear is:"
   ]
  },
  {
   "cell_type": "code",
   "execution_count": 14,
   "metadata": {
    "collapsed": false
   },
   "outputs": [
    {
     "data": {
      "text/plain": [
       "5775.0"
      ]
     },
     "execution_count": 14,
     "metadata": {},
     "output_type": "execute_result"
    }
   ],
   "source": [
    "(sp.special.binom(12, 4) * sp.special.binom(8, 4)) / (3*2)"
   ]
  },
  {
   "cell_type": "markdown",
   "metadata": {},
   "source": [
    "### 9. a) How many paths are there from point (0,0) to the point (110, 111) in the plane such that each step either consists of going one unit up or one unit to the right?"
   ]
  },
  {
   "cell_type": "markdown",
   "metadata": {},
   "source": [
    "**R/** We can imagine each movement as right(R) or left(L). There are 110 + 111 movements available, 110 must be right and the remaining 111 must be up.\n",
    "\n",
    "$$ \\binom{221}{110} $$\n",
    "\n",
    "Our answear:"
   ]
  },
  {
   "cell_type": "code",
   "execution_count": 17,
   "metadata": {
    "collapsed": false
   },
   "outputs": [
    {
     "data": {
      "text/plain": [
       "1.8026173520842921e+65"
      ]
     },
     "execution_count": 17,
     "metadata": {},
     "output_type": "execute_result"
    }
   ],
   "source": [
    "sp.special.binom(221, 110)"
   ]
  },
  {
   "cell_type": "markdown",
   "metadata": {},
   "source": [
    "### 9. b) How many paths are there from point (0,0) to the point (210, 211) in the plane such that each step either consists of going one unit up or one unit to the right and the path has to go through (110, 111)?"
   ]
  },
  {
   "cell_type": "markdown",
   "metadata": {},
   "source": [
    "**R/** We already know there are $\\binom{221}{110}$ ways to get from (0,0) to (110,111). Now we just need to multiply it by all the ways to get from (110,111) to (210, 211):\n",
    "\n",
    "If (110,111) is our starting point, there must be 100 movements up and 100 movements right to get to (210, 211). So \n",
    "there are 100 + 100 movements available. We then pick 100 right movemments and the left are up movements:\n",
    "\n",
    "$$ \\binom{200}{100} $$\n",
    "\n",
    "So our answear is:\n",
    "\n",
    "$$ \\binom{221}{110} \\cdot \\binom{200}{100} $$\n",
    "\n",
    "Important note: This time we are not overcounting  since order doesn't matter. Every path is different. "
   ]
  },
  {
   "cell_type": "markdown",
   "metadata": {},
   "source": [
    "### 10. To fulfill the requirements for a certrain degree, a student can choose to take any 7 out of a list of 20 courses, with the constraint that at leas 1 of the 7 courses must be a statistics course. Suppose that 5 out of the 20 courses are statistics courses."
   ]
  },
  {
   "cell_type": "markdown",
   "metadata": {},
   "source": [
    "#### a) How many choices are there for which 7 courses to take?"
   ]
  },
  {
   "cell_type": "markdown",
   "metadata": {},
   "source": [
    "**R/** The student has $\\binom{20}{7}$ choices. Out of which $\\binom{15}{7}$ does not include statistics courses. So our answear is: \n",
    "\n",
    "$$\\binom{20}{7}-\\binom{15}{7} $$\n",
    "\n",
    "Our answear is:"
   ]
  },
  {
   "cell_type": "code",
   "execution_count": 24,
   "metadata": {
    "collapsed": false
   },
   "outputs": [
    {
     "data": {
      "text/plain": [
       "71085.0"
      ]
     },
     "execution_count": 24,
     "metadata": {},
     "output_type": "execute_result"
    }
   ],
   "source": [
    "sp.special.binom(20, 7) - sp.special.binom(15, 7)"
   ]
  },
  {
   "cell_type": "markdown",
   "metadata": {},
   "source": [
    "#### b) Explain intuitively why the answer to (a) is not $\\binom{5}{1} \\cdot \\binom{19}{6}$"
   ]
  },
  {
   "cell_type": "markdown",
   "metadata": {},
   "source": [
    "**R/** That solution is overcounting. If a student chooses first one statistic course (x) and then chooses an other one for the other six (y) is the same as the student choosing first y and then x."
   ]
  },
  {
   "cell_type": "markdown",
   "metadata": {},
   "source": [
    "### 11. Let A and B be sets with |A| = n, |B| = m."
   ]
  },
  {
   "cell_type": "markdown",
   "metadata": {},
   "source": [
    "#### a) How many functions are there from A to B. (i.e, functions with domain A assinging an element of B to each element of A)."
   ]
  },
  {
   "cell_type": "markdown",
   "metadata": {},
   "source": [
    "### 12. Four players, named A, B, C and D, are playing a card game. A standard, well-shuffled, deck of cards is dealt to the players (so each player receives a 13-card hand)."
   ]
  },
  {
   "cell_type": "markdown",
   "metadata": {},
   "source": [
    "#### a) How many possibilities are there for the hand that player A will get? (Within a hand, the order in which cards were received doesn't matter)"
   ]
  },
  {
   "cell_type": "markdown",
   "metadata": {},
   "source": [
    "**R/** The posible hands for player A are the same that B, C or D. We just pick 13 cards out of 52.\n",
    "\n",
    "$$ \\binom{52}{13} $$"
   ]
  },
  {
   "cell_type": "markdown",
   "metadata": {},
   "source": [
    "#### b) How many possibilities are there overall for what hands everyone will get, assuming that it matters which players gets which hand, but not the order of cards within a hand."
   ]
  },
  {
   "cell_type": "markdown",
   "metadata": {},
   "source": [
    "**R/** Hand of A player can have \n",
    "\n",
    "\n",
    "$$ \\binom{52}{13} \\cdot \\binom{39}{13} \\cdot \\binom{26}{13} \\cdot \\binom{13}{13} $$"
   ]
  },
  {
   "cell_type": "code",
   "execution_count": 26,
   "metadata": {
    "collapsed": false
   },
   "outputs": [
    {
     "data": {
      "text/plain": [
       "5.3644737765488799e+28"
      ]
     },
     "execution_count": 26,
     "metadata": {},
     "output_type": "execute_result"
    }
   ],
   "source": [
    "sp.special.binom(52,13) * sp.special.binom(39,13) * sp.special.binom(26,13)"
   ]
  }
 ],
 "metadata": {
  "hide_input": false,
  "kernelspec": {
   "display_name": "Python 2",
   "language": "python",
   "name": "python2"
  },
  "language_info": {
   "codemirror_mode": {
    "name": "ipython",
    "version": 2
   },
   "file_extension": ".py",
   "mimetype": "text/x-python",
   "name": "python",
   "nbconvert_exporter": "python",
   "pygments_lexer": "ipython2",
   "version": "2.7.11"
  }
 },
 "nbformat": 4,
 "nbformat_minor": 0
}
